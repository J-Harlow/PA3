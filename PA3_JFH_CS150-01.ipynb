{
 "cells": [
  {
   "cell_type": "markdown",
   "id": "fd57b88e",
   "metadata": {},
   "source": [
    "####Task 1:List Ops"
   ]
  },
  {
   "cell_type": "code",
   "execution_count": 13,
   "id": "88334521",
   "metadata": {},
   "outputs": [
    {
     "name": "stdout",
     "output_type": "stream",
     "text": [
      "[10, 20, 30, 40, 50]\n",
      "Updated List: [5, 20, 30, 40, 50, 60]\n"
     ]
    }
   ],
   "source": [
    "numbers=[10,20,30,40,50] #List \n",
    "print(numbers) #OG list\n",
    "numbers.append(60) #Append 60\n",
    "numbers.insert(0,5) #Insert 5\n",
    "del numbers[1] #Remove 2nd element(10)\n",
    "print(f\"Updated List: {numbers}\") #Updated list"
   ]
  },
  {
   "cell_type": "markdown",
   "id": "2807d1eb",
   "metadata": {},
   "source": [
    "####Task 2: Tuple Basics"
   ]
  },
  {
   "cell_type": "code",
   "execution_count": 3,
   "id": "b99713cb",
   "metadata": {},
   "outputs": [
    {
     "name": "stdout",
     "output_type": "stream",
     "text": [
      "('Monday', 'Tuesday', 'Wednesday', 'Thursday', 'Friday', 'Saturday', 'Sunday')\n"
     ]
    },
    {
     "data": {
      "text/plain": [
       "'Wednesday'"
      ]
     },
     "execution_count": 3,
     "metadata": {},
     "output_type": "execute_result"
    }
   ],
   "source": [
    "days=(\"Monday\",\"Tuesday\",\"Wednesday\",\"Thursday\",\"Friday\",\"Saturday\",\"Sunday\") \n",
    "print(days)#Mon to Sun.\n",
    "days[2]#Print 3rd day\n",
    "# days[1]=\"Funday\"  Tuple is immutable"
   ]
  },
  {
   "cell_type": "markdown",
   "id": "e1f4fe1c",
   "metadata": {},
   "source": [
    "####Task 3: Reversing Sublist"
   ]
  },
  {
   "cell_type": "code",
   "execution_count": 23,
   "id": "523f4c5b",
   "metadata": {},
   "outputs": [
    {
     "name": "stdout",
     "output_type": "stream",
     "text": [
      "['A', 'B', 'C', 'D', 'E', 'F', 'G', 'H', 'I', 'J', 'K', 'L', 'M', 'N', 'O', 'P', 'Q', 'R', 'S', 'T', 'U', 'V', 'W', 'X', 'Y', 'Z']\n",
      "Letters Sar doesn't like: ['P', 'O', 'N', 'M', 'L', 'K']\n"
     ]
    }
   ],
   "source": [
    "letters=[\"A\",\"B\",\"C\",\"D\",\"E\",\"F\",\"G\",\"H\",\"I\",\"J\",\"K\",\"L\",\"M\",\"N\",\"O\",\"P\",\"Q\",\"R\",\"S\",\"T\",\"U\",\"V\",\"W\",\"X\",\"Y\",\"Z\"]\n",
    "print(letters) #List of Letters\n",
    "#List slice and make sublist\n",
    "letters_sardoesntlike=letters[15:9:-1] #Sublist and reversed\n",
    "print(\"Letters Sar doesn't like:\", letters_sardoesntlike)"
   ]
  },
  {
   "cell_type": "markdown",
   "id": "c038e448",
   "metadata": {},
   "source": [
    "###Task 4: Tuple Packing and Unpacking"
   ]
  },
  {
   "cell_type": "code",
   "execution_count": 25,
   "id": "92a6b2eb",
   "metadata": {},
   "outputs": [
    {
     "name": "stdout",
     "output_type": "stream",
     "text": [
      "First Name: Justin\n",
      "Last Name: Harlow\n",
      "Age: 27\n",
      "Favorite Subject: Astronomy\n"
     ]
    }
   ],
   "source": [
    "student=(\"Justin\", \"Harlow\", \"27\", \"Astronomy\") #Tuple of me and fav subject\n",
    "first_name, last_name, age, favorite_subject=student\n",
    "#Unpack Student and print\n",
    "print(\"First Name:\", first_name)\n",
    "print(\"Last Name:\", last_name)\n",
    "print(\"Age:\", age)\n",
    "print(\"Favorite Subject:\", favorite_subject)"
   ]
  },
  {
   "cell_type": "markdown",
   "id": "0b6cea97",
   "metadata": {},
   "source": [
    "####Task 5: Shopping List"
   ]
  },
  {
   "cell_type": "code",
   "execution_count": 27,
   "id": "d15dfeb5",
   "metadata": {},
   "outputs": [
    {
     "name": "stdout",
     "output_type": "stream",
     "text": [
      "Total number of items on the shopping list: 5\n",
      "Sorted shopping list: ['Cheese', 'Eggs', 'Oranges', 'Whey', 'Yogurt']\n"
     ]
    }
   ],
   "source": [
    "#Shopping List\n",
    "shopping_list = [\"Yogurt\", \"Whey\", \"Milk\", \"Eggs\", \"Cheese\"]\n",
    "#Number of items\n",
    "total_items = len(shopping_list)\n",
    "print(\"Total number of items on the shopping list:\", total_items)\n",
    "#Replace the 3rd item\n",
    "new_item = \"Oranges\"\n",
    "shopping_list[2] = new_item\n",
    "#Sort in alphabetical order\n",
    "shopping_list.sort()\n",
    "#Print sorted shopping list\n",
    "print(\"Sorted shopping list:\", shopping_list)"
   ]
  },
  {
   "cell_type": "code",
   "execution_count": null,
   "id": "f3d80958",
   "metadata": {},
   "outputs": [],
   "source": [
    "####Author: Justin Harlow\n",
    "####Semester: Fall 2023\n",
    "####PA3"
   ]
  }
 ],
 "metadata": {
  "kernelspec": {
   "display_name": "Python 3 (ipykernel)",
   "language": "python",
   "name": "python3"
  },
  "language_info": {
   "codemirror_mode": {
    "name": "ipython",
    "version": 3
   },
   "file_extension": ".py",
   "mimetype": "text/x-python",
   "name": "python",
   "nbconvert_exporter": "python",
   "pygments_lexer": "ipython3",
   "version": "3.11.4"
  }
 },
 "nbformat": 4,
 "nbformat_minor": 5
}
